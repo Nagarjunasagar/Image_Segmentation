{
  "nbformat": 4,
  "nbformat_minor": 0,
  "metadata": {
    "colab": {
      "name": "ImageSegmentation1.ipynb",
      "provenance": [],
      "mount_file_id": "10xh_N7wAM115pG21fHU21eNhwm8iWk7F",
      "authorship_tag": "ABX9TyOnuzsrIgsmO9Gv+yesqLqt",
      "include_colab_link": true
    },
    "kernelspec": {
      "name": "python3",
      "display_name": "Python 3"
    },
    "language_info": {
      "name": "python"
    }
  },
  "cells": [
    {
      "cell_type": "markdown",
      "metadata": {
        "id": "view-in-github",
        "colab_type": "text"
      },
      "source": [
        "<a href=\"https://colab.research.google.com/github/Nagarjunasagar/Image_Segmentation/blob/main/ImageSegmentation1.ipynb\" target=\"_parent\"><img src=\"https://colab.research.google.com/assets/colab-badge.svg\" alt=\"Open In Colab\"/></a>"
      ]
    },
    {
      "cell_type": "code",
      "source": [
        ""
      ],
      "metadata": {
        "id": "-RBVeiY5WiVb"
      },
      "execution_count": null,
      "outputs": []
    },
    {
      "cell_type": "code",
      "execution_count": null,
      "metadata": {
        "id": "04hEo1z0rkYr"
      },
      "outputs": [],
      "source": [
        "import pixellib\n",
        "from pixellib.instance import instance_segmentation\n",
        "segment_image = instance_segmentation()\n",
        "segment_image.load_model(\"/content/drive/MyDrive/Models/mask_rcnn_coco.h5\") \n",
        "segment_image.segmentImage(\"/content/drive/MyDrive/Image_Segmentation/play.jpeg\", show_bboxes = True, output_image_name = \"/content/drive/MyDrive/Image_Segmentation/output1.jpg\") "
      ]
    }
  ]
}