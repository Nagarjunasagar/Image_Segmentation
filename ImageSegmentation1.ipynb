{
  "nbformat": 4,
  "nbformat_minor": 0,
  "metadata": {
    "colab": {
      "name": "ImageSegmentation1.ipynb",
      "provenance": [],
      "mount_file_id": "10xh_N7wAM115pG21fHU21eNhwm8iWk7F",
      "authorship_tag": "ABX9TyOZ/obE9rVK7bKcSx6ZFgtK",
      "include_colab_link": true
    },
    "kernelspec": {
      "name": "python3",
      "display_name": "Python 3"
    },
    "language_info": {
      "name": "python"
    }
  },
  "cells": [
    {
      "cell_type": "markdown",
      "metadata": {
        "id": "view-in-github",
        "colab_type": "text"
      },
      "source": [
        "<a href=\"https://colab.research.google.com/github/Nagarjunasagar/Image_Segmentation/blob/main/ImageSegmentation1.ipynb\" target=\"_parent\"><img src=\"https://colab.research.google.com/assets/colab-badge.svg\" alt=\"Open In Colab\"/></a>"
      ]
    },
    {
      "cell_type": "code",
      "source": [
        "!pip install pixellib"
      ],
      "metadata": {
        "colab": {
          "base_uri": "https://localhost:8080/",
          "height": 1000
        },
        "id": "cnAl_-h4uga7",
        "outputId": "c5739b47-4b38-4d2a-c6dd-091232488d0a"
      },
      "execution_count": 2,
      "outputs": [
        {
          "output_type": "stream",
          "name": "stdout",
          "text": [
            "Collecting pixellib\n",
            "  Downloading pixellib-0.7.1-py3-none-any.whl (430 kB)\n",
            "\u001b[?25l\r\u001b[K     |▊                               | 10 kB 5.2 MB/s eta 0:00:01\r\u001b[K     |█▌                              | 20 kB 5.4 MB/s eta 0:00:01\r\u001b[K     |██▎                             | 30 kB 5.8 MB/s eta 0:00:01\r\u001b[K     |███                             | 40 kB 5.7 MB/s eta 0:00:01\r\u001b[K     |███▉                            | 51 kB 3.6 MB/s eta 0:00:01\r\u001b[K     |████▋                           | 61 kB 3.6 MB/s eta 0:00:01\r\u001b[K     |█████▎                          | 71 kB 3.8 MB/s eta 0:00:01\r\u001b[K     |██████                          | 81 kB 4.3 MB/s eta 0:00:01\r\u001b[K     |██████▉                         | 92 kB 4.2 MB/s eta 0:00:01\r\u001b[K     |███████▋                        | 102 kB 4.7 MB/s eta 0:00:01\r\u001b[K     |████████▍                       | 112 kB 4.7 MB/s eta 0:00:01\r\u001b[K     |█████████▏                      | 122 kB 4.7 MB/s eta 0:00:01\r\u001b[K     |██████████                      | 133 kB 4.7 MB/s eta 0:00:01\r\u001b[K     |██████████▋                     | 143 kB 4.7 MB/s eta 0:00:01\r\u001b[K     |███████████▍                    | 153 kB 4.7 MB/s eta 0:00:01\r\u001b[K     |████████████▏                   | 163 kB 4.7 MB/s eta 0:00:01\r\u001b[K     |█████████████                   | 174 kB 4.7 MB/s eta 0:00:01\r\u001b[K     |█████████████▊                  | 184 kB 4.7 MB/s eta 0:00:01\r\u001b[K     |██████████████▌                 | 194 kB 4.7 MB/s eta 0:00:01\r\u001b[K     |███████████████▎                | 204 kB 4.7 MB/s eta 0:00:01\r\u001b[K     |████████████████                | 215 kB 4.7 MB/s eta 0:00:01\r\u001b[K     |████████████████▊               | 225 kB 4.7 MB/s eta 0:00:01\r\u001b[K     |█████████████████▌              | 235 kB 4.7 MB/s eta 0:00:01\r\u001b[K     |██████████████████▎             | 245 kB 4.7 MB/s eta 0:00:01\r\u001b[K     |███████████████████             | 256 kB 4.7 MB/s eta 0:00:01\r\u001b[K     |███████████████████▉            | 266 kB 4.7 MB/s eta 0:00:01\r\u001b[K     |████████████████████▋           | 276 kB 4.7 MB/s eta 0:00:01\r\u001b[K     |█████████████████████▎          | 286 kB 4.7 MB/s eta 0:00:01\r\u001b[K     |██████████████████████          | 296 kB 4.7 MB/s eta 0:00:01\r\u001b[K     |██████████████████████▉         | 307 kB 4.7 MB/s eta 0:00:01\r\u001b[K     |███████████████████████▋        | 317 kB 4.7 MB/s eta 0:00:01\r\u001b[K     |████████████████████████▍       | 327 kB 4.7 MB/s eta 0:00:01\r\u001b[K     |█████████████████████████▏      | 337 kB 4.7 MB/s eta 0:00:01\r\u001b[K     |██████████████████████████      | 348 kB 4.7 MB/s eta 0:00:01\r\u001b[K     |██████████████████████████▋     | 358 kB 4.7 MB/s eta 0:00:01\r\u001b[K     |███████████████████████████▍    | 368 kB 4.7 MB/s eta 0:00:01\r\u001b[K     |████████████████████████████▏   | 378 kB 4.7 MB/s eta 0:00:01\r\u001b[K     |█████████████████████████████   | 389 kB 4.7 MB/s eta 0:00:01\r\u001b[K     |█████████████████████████████▊  | 399 kB 4.7 MB/s eta 0:00:01\r\u001b[K     |██████████████████████████████▌ | 409 kB 4.7 MB/s eta 0:00:01\r\u001b[K     |███████████████████████████████▏| 419 kB 4.7 MB/s eta 0:00:01\r\u001b[K     |████████████████████████████████| 430 kB 4.7 MB/s eta 0:00:01\r\u001b[K     |████████████████████████████████| 430 kB 4.7 MB/s \n",
            "\u001b[?25hCollecting dataclasses\n",
            "  Downloading dataclasses-0.6-py3-none-any.whl (14 kB)\n",
            "Collecting omegaconf\n",
            "  Downloading omegaconf-2.1.1-py3-none-any.whl (74 kB)\n",
            "\u001b[K     |████████████████████████████████| 74 kB 3.8 MB/s \n",
            "\u001b[?25hRequirement already satisfied: imgaug in /usr/local/lib/python3.7/dist-packages (from pixellib) (0.2.9)\n",
            "Collecting iopath\n",
            "  Downloading iopath-0.1.9-py3-none-any.whl (27 kB)\n",
            "Requirement already satisfied: tqdm in /usr/local/lib/python3.7/dist-packages (from pixellib) (4.63.0)\n",
            "Requirement already satisfied: cloudpickle in /usr/local/lib/python3.7/dist-packages (from pixellib) (1.3.0)\n",
            "Requirement already satisfied: scikit-image in /usr/local/lib/python3.7/dist-packages (from pixellib) (0.18.3)\n",
            "Collecting imantics\n",
            "  Downloading imantics-0.1.12.tar.gz (13 kB)\n",
            "Collecting fvcore\n",
            "  Downloading fvcore-0.1.5.post20220305.tar.gz (50 kB)\n",
            "\u001b[K     |████████████████████████████████| 50 kB 7.1 MB/s \n",
            "\u001b[?25hRequirement already satisfied: opencv-python in /usr/local/lib/python3.7/dist-packages (from pixellib) (4.1.2.30)\n",
            "Requirement already satisfied: tabulate in /usr/local/lib/python3.7/dist-packages (from pixellib) (0.8.9)\n",
            "Requirement already satisfied: pydot in /usr/local/lib/python3.7/dist-packages (from pixellib) (1.3.0)\n",
            "Collecting yacs\n",
            "  Downloading yacs-0.1.8-py3-none-any.whl (14 kB)\n",
            "Collecting black\n",
            "  Downloading black-22.1.0-cp37-cp37m-manylinux_2_17_x86_64.manylinux2014_x86_64.whl (1.4 MB)\n",
            "\u001b[K     |████████████████████████████████| 1.4 MB 52.8 MB/s \n",
            "\u001b[?25hRequirement already satisfied: termcolor in /usr/local/lib/python3.7/dist-packages (from pixellib) (1.1.0)\n",
            "Requirement already satisfied: future in /usr/local/lib/python3.7/dist-packages (from pixellib) (0.16.0)\n",
            "Collecting labelme2coco\n",
            "  Downloading labelme2coco-0.2.1-py3-none-any.whl (18 kB)\n",
            "Requirement already satisfied: Cython in /usr/local/lib/python3.7/dist-packages (from pixellib) (0.29.28)\n",
            "Requirement already satisfied: pillow in /usr/local/lib/python3.7/dist-packages (from pixellib) (7.1.2)\n",
            "Collecting pyQt5\n",
            "  Downloading PyQt5-5.15.6-cp36-abi3-manylinux1_x86_64.whl (8.3 MB)\n",
            "\u001b[K     |████████████████████████████████| 8.3 MB 45.1 MB/s \n",
            "\u001b[?25hCollecting hydra-core\n",
            "  Downloading hydra_core-1.1.1-py3-none-any.whl (145 kB)\n",
            "\u001b[K     |████████████████████████████████| 145 kB 60.9 MB/s \n",
            "\u001b[?25hRequirement already satisfied: matplotlib in /usr/local/lib/python3.7/dist-packages (from pixellib) (3.2.2)\n",
            "Requirement already satisfied: typing-extensions>=3.10.0.0 in /usr/local/lib/python3.7/dist-packages (from black->pixellib) (3.10.0.2)\n",
            "Requirement already satisfied: tomli>=1.1.0 in /usr/local/lib/python3.7/dist-packages (from black->pixellib) (2.0.1)\n",
            "Collecting platformdirs>=2\n",
            "  Downloading platformdirs-2.5.1-py3-none-any.whl (14 kB)\n",
            "Collecting click>=8.0.0\n",
            "  Downloading click-8.0.4-py3-none-any.whl (97 kB)\n",
            "\u001b[K     |████████████████████████████████| 97 kB 6.6 MB/s \n",
            "\u001b[?25hCollecting mypy-extensions>=0.4.3\n",
            "  Downloading mypy_extensions-0.4.3-py2.py3-none-any.whl (4.5 kB)\n",
            "Collecting pathspec>=0.9.0\n",
            "  Downloading pathspec-0.9.0-py2.py3-none-any.whl (31 kB)\n",
            "Collecting typed-ast>=1.4.2\n",
            "  Downloading typed_ast-1.5.2-cp37-cp37m-manylinux_2_5_x86_64.manylinux1_x86_64.manylinux_2_12_x86_64.manylinux2010_x86_64.whl (843 kB)\n",
            "\u001b[K     |████████████████████████████████| 843 kB 46.6 MB/s \n",
            "\u001b[?25hRequirement already satisfied: importlib-metadata in /usr/local/lib/python3.7/dist-packages (from click>=8.0.0->black->pixellib) (4.11.2)\n",
            "Requirement already satisfied: numpy in /usr/local/lib/python3.7/dist-packages (from fvcore->pixellib) (1.21.5)\n",
            "Collecting pyyaml>=5.1\n",
            "  Downloading PyYAML-6.0-cp37-cp37m-manylinux_2_5_x86_64.manylinux1_x86_64.manylinux_2_12_x86_64.manylinux2010_x86_64.whl (596 kB)\n",
            "\u001b[K     |████████████████████████████████| 596 kB 49.1 MB/s \n",
            "\u001b[?25hCollecting portalocker\n",
            "  Downloading portalocker-2.4.0-py2.py3-none-any.whl (16 kB)\n",
            "Requirement already satisfied: importlib-resources in /usr/local/lib/python3.7/dist-packages (from hydra-core->pixellib) (5.4.0)\n",
            "Collecting antlr4-python3-runtime==4.8\n",
            "  Downloading antlr4-python3-runtime-4.8.tar.gz (112 kB)\n",
            "\u001b[K     |████████████████████████████████| 112 kB 45.7 MB/s \n",
            "\u001b[?25hRequirement already satisfied: lxml in /usr/local/lib/python3.7/dist-packages (from imantics->pixellib) (4.2.6)\n",
            "Collecting xmljson\n",
            "  Downloading xmljson-0.2.1-py2.py3-none-any.whl (10 kB)\n",
            "Requirement already satisfied: six in /usr/local/lib/python3.7/dist-packages (from imgaug->pixellib) (1.15.0)\n",
            "Requirement already satisfied: Shapely in /usr/local/lib/python3.7/dist-packages (from imgaug->pixellib) (1.8.1.post1)\n",
            "Requirement already satisfied: scipy in /usr/local/lib/python3.7/dist-packages (from imgaug->pixellib) (1.4.1)\n",
            "Requirement already satisfied: imageio in /usr/local/lib/python3.7/dist-packages (from imgaug->pixellib) (2.4.1)\n",
            "Requirement already satisfied: tifffile>=2019.7.26 in /usr/local/lib/python3.7/dist-packages (from scikit-image->pixellib) (2021.11.2)\n",
            "Requirement already satisfied: PyWavelets>=1.1.1 in /usr/local/lib/python3.7/dist-packages (from scikit-image->pixellib) (1.2.0)\n",
            "Requirement already satisfied: networkx>=2.0 in /usr/local/lib/python3.7/dist-packages (from scikit-image->pixellib) (2.6.3)\n",
            "Requirement already satisfied: pyparsing!=2.0.4,!=2.1.2,!=2.1.6,>=2.0.1 in /usr/local/lib/python3.7/dist-packages (from matplotlib->pixellib) (3.0.7)\n",
            "Requirement already satisfied: cycler>=0.10 in /usr/local/lib/python3.7/dist-packages (from matplotlib->pixellib) (0.11.0)\n",
            "Requirement already satisfied: kiwisolver>=1.0.1 in /usr/local/lib/python3.7/dist-packages (from matplotlib->pixellib) (1.3.2)\n",
            "Requirement already satisfied: python-dateutil>=2.1 in /usr/local/lib/python3.7/dist-packages (from matplotlib->pixellib) (2.8.2)\n",
            "Requirement already satisfied: zipp>=0.5 in /usr/local/lib/python3.7/dist-packages (from importlib-metadata->click>=8.0.0->black->pixellib) (3.7.0)\n",
            "Collecting sahi>=0.8.19\n",
            "  Downloading sahi-0.9.0-py3-none-any.whl (78 kB)\n",
            "\u001b[K     |████████████████████████████████| 78 kB 8.5 MB/s \n",
            "\u001b[?25hRequirement already satisfied: jsonschema>=2.6.0 in /usr/local/lib/python3.7/dist-packages (from labelme2coco->pixellib) (4.3.3)\n",
            "Requirement already satisfied: pyrsistent!=0.17.0,!=0.17.1,!=0.17.2,>=0.14.0 in /usr/local/lib/python3.7/dist-packages (from jsonschema>=2.6.0->labelme2coco->pixellib) (0.18.1)\n",
            "Requirement already satisfied: attrs>=17.4.0 in /usr/local/lib/python3.7/dist-packages (from jsonschema>=2.6.0->labelme2coco->pixellib) (21.4.0)\n",
            "Collecting opencv-python\n",
            "  Downloading opencv_python-4.5.5.62-cp36-abi3-manylinux_2_17_x86_64.manylinux2014_x86_64.whl (60.4 MB)\n",
            "\u001b[K     |████████████████████████████████| 60.4 MB 1.2 MB/s \n",
            "\u001b[?25hCollecting pillow\n",
            "  Downloading Pillow-9.0.1-cp37-cp37m-manylinux_2_17_x86_64.manylinux2014_x86_64.whl (4.3 MB)\n",
            "\u001b[K     |████████████████████████████████| 4.3 MB 44.0 MB/s \n",
            "\u001b[?25hCollecting terminaltables\n",
            "  Downloading terminaltables-3.1.10-py2.py3-none-any.whl (15 kB)\n",
            "Requirement already satisfied: requests in /usr/local/lib/python3.7/dist-packages (from sahi>=0.8.19->labelme2coco->pixellib) (2.23.0)\n",
            "Collecting fire\n",
            "  Downloading fire-0.4.0.tar.gz (87 kB)\n",
            "\u001b[K     |████████████████████████████████| 87 kB 7.7 MB/s \n",
            "\u001b[?25hCollecting PyQt5-Qt5>=5.15.2\n",
            "  Downloading PyQt5_Qt5-5.15.2-py3-none-manylinux2014_x86_64.whl (59.9 MB)\n",
            "\u001b[K     |████████████████████████████████| 59.9 MB 1.2 MB/s \n",
            "\u001b[?25hCollecting PyQt5-sip<13,>=12.8\n",
            "  Downloading PyQt5_sip-12.9.1-cp37-cp37m-manylinux1_x86_64.whl (338 kB)\n",
            "\u001b[K     |████████████████████████████████| 338 kB 48.1 MB/s \n",
            "\u001b[?25hRequirement already satisfied: certifi>=2017.4.17 in /usr/local/lib/python3.7/dist-packages (from requests->sahi>=0.8.19->labelme2coco->pixellib) (2021.10.8)\n",
            "Requirement already satisfied: chardet<4,>=3.0.2 in /usr/local/lib/python3.7/dist-packages (from requests->sahi>=0.8.19->labelme2coco->pixellib) (3.0.4)\n",
            "Requirement already satisfied: idna<3,>=2.5 in /usr/local/lib/python3.7/dist-packages (from requests->sahi>=0.8.19->labelme2coco->pixellib) (2.10)\n",
            "Requirement already satisfied: urllib3!=1.25.0,!=1.25.1,<1.26,>=1.21.1 in /usr/local/lib/python3.7/dist-packages (from requests->sahi>=0.8.19->labelme2coco->pixellib) (1.24.3)\n",
            "Building wheels for collected packages: fvcore, antlr4-python3-runtime, imantics, fire\n",
            "  Building wheel for fvcore (setup.py) ... \u001b[?25l\u001b[?25hdone\n",
            "  Created wheel for fvcore: filename=fvcore-0.1.5.post20220305-py3-none-any.whl size=61214 sha256=f61b245398497680568999d76c3b984ea3de7cf422e839a0a91eacef37e9e80d\n",
            "  Stored in directory: /root/.cache/pip/wheels/b5/b7/6e/43b1693d06fac3633af48db68557513b0a37ab38b0a8b798f9\n",
            "  Building wheel for antlr4-python3-runtime (setup.py) ... \u001b[?25l\u001b[?25hdone\n",
            "  Created wheel for antlr4-python3-runtime: filename=antlr4_python3_runtime-4.8-py3-none-any.whl size=141230 sha256=c0b48a02ac87ae19488a6ccf4ff3bfd5eeb0b1f5ab79fb3767e74c19386e1947\n",
            "  Stored in directory: /root/.cache/pip/wheels/ca/33/b7/336836125fc9bb4ceaa4376d8abca10ca8bc84ddc824baea6c\n",
            "  Building wheel for imantics (setup.py) ... \u001b[?25l\u001b[?25hdone\n",
            "  Created wheel for imantics: filename=imantics-0.1.12-py3-none-any.whl size=16033 sha256=c74348d80288750bfb1af611b50feb7943e540b85d635812efbe45a7c50e43ae\n",
            "  Stored in directory: /root/.cache/pip/wheels/da/7c/3e/296fe3ed4eb3bd713e91dee0d0549f12f316d49939a64bdc96\n",
            "  Building wheel for fire (setup.py) ... \u001b[?25l\u001b[?25hdone\n",
            "  Created wheel for fire: filename=fire-0.4.0-py2.py3-none-any.whl size=115942 sha256=5ea0815be5330cab47b5b3c412e62873b9257f43b33f087925379ad1b47536e4\n",
            "  Stored in directory: /root/.cache/pip/wheels/8a/67/fb/2e8a12fa16661b9d5af1f654bd199366799740a85c64981226\n",
            "Successfully built fvcore antlr4-python3-runtime imantics fire\n",
            "Installing collected packages: pillow, terminaltables, pyyaml, portalocker, opencv-python, fire, antlr4-python3-runtime, yacs, xmljson, typed-ast, sahi, PyQt5-sip, PyQt5-Qt5, platformdirs, pathspec, omegaconf, mypy-extensions, iopath, click, pyQt5, labelme2coco, imantics, hydra-core, fvcore, dataclasses, black, pixellib\n",
            "  Attempting uninstall: pillow\n",
            "    Found existing installation: Pillow 7.1.2\n",
            "    Uninstalling Pillow-7.1.2:\n",
            "      Successfully uninstalled Pillow-7.1.2\n",
            "  Attempting uninstall: pyyaml\n",
            "    Found existing installation: PyYAML 3.13\n",
            "    Uninstalling PyYAML-3.13:\n",
            "      Successfully uninstalled PyYAML-3.13\n",
            "  Attempting uninstall: opencv-python\n",
            "    Found existing installation: opencv-python 4.1.2.30\n",
            "    Uninstalling opencv-python-4.1.2.30:\n",
            "      Successfully uninstalled opencv-python-4.1.2.30\n",
            "  Attempting uninstall: click\n",
            "    Found existing installation: click 7.1.2\n",
            "    Uninstalling click-7.1.2:\n",
            "      Successfully uninstalled click-7.1.2\n",
            "\u001b[31mERROR: pip's dependency resolver does not currently take into account all the packages that are installed. This behaviour is the source of the following dependency conflicts.\n",
            "flask 1.1.4 requires click<8.0,>=5.1, but you have click 8.0.4 which is incompatible.\n",
            "albumentations 0.1.12 requires imgaug<0.2.7,>=0.2.5, but you have imgaug 0.2.9 which is incompatible.\u001b[0m\n",
            "Successfully installed PyQt5-Qt5-5.15.2 PyQt5-sip-12.9.1 antlr4-python3-runtime-4.8 black-22.1.0 click-8.0.4 dataclasses-0.6 fire-0.4.0 fvcore-0.1.5.post20220305 hydra-core-1.1.1 imantics-0.1.12 iopath-0.1.9 labelme2coco-0.2.1 mypy-extensions-0.4.3 omegaconf-2.1.1 opencv-python-4.5.5.62 pathspec-0.9.0 pillow-9.0.1 pixellib-0.7.1 platformdirs-2.5.1 portalocker-2.4.0 pyQt5-5.15.6 pyyaml-6.0 sahi-0.9.0 terminaltables-3.1.10 typed-ast-1.5.2 xmljson-0.2.1 yacs-0.1.8\n"
          ]
        },
        {
          "output_type": "display_data",
          "data": {
            "application/vnd.colab-display-data+json": {
              "pip_warning": {
                "packages": [
                  "PIL",
                  "pydevd_plugins"
                ]
              }
            }
          },
          "metadata": {}
        }
      ]
    },
    {
      "cell_type": "code",
      "execution_count": 1,
      "metadata": {
        "id": "04hEo1z0rkYr",
        "colab": {
          "base_uri": "https://localhost:8080/",
          "height": 428
        },
        "outputId": "cd3027a5-299f-499b-e84f-e4ca3b510370"
      },
      "outputs": [
        {
          "output_type": "stream",
          "name": "stdout",
          "text": [
            "WARNING:tensorflow:From /usr/local/lib/python3.7/dist-packages/tensorflow/python/util/deprecation.py:616: calling map_fn_v2 (from tensorflow.python.ops.map_fn) with dtype is deprecated and will be removed in a future version.\n",
            "Instructions for updating:\n",
            "Use fn_output_signature instead\n"
          ]
        },
        {
          "output_type": "error",
          "ename": "error",
          "evalue": "ignored",
          "traceback": [
            "\u001b[0;31m---------------------------------------------------------------------------\u001b[0m",
            "\u001b[0;31merror\u001b[0m                                     Traceback (most recent call last)",
            "\u001b[0;32m<ipython-input-1-696c486db042>\u001b[0m in \u001b[0;36m<module>\u001b[0;34m()\u001b[0m\n\u001b[1;32m      3\u001b[0m \u001b[0msegment_image\u001b[0m \u001b[0;34m=\u001b[0m \u001b[0minstance_segmentation\u001b[0m\u001b[0;34m(\u001b[0m\u001b[0;34m)\u001b[0m\u001b[0;34m\u001b[0m\u001b[0;34m\u001b[0m\u001b[0m\n\u001b[1;32m      4\u001b[0m \u001b[0msegment_image\u001b[0m\u001b[0;34m.\u001b[0m\u001b[0mload_model\u001b[0m\u001b[0;34m(\u001b[0m\u001b[0;34m\"/content/drive/MyDrive/Models/mask_rcnn_coco.h5\"\u001b[0m\u001b[0;34m)\u001b[0m\u001b[0;34m\u001b[0m\u001b[0;34m\u001b[0m\u001b[0m\n\u001b[0;32m----> 5\u001b[0;31m \u001b[0msegment_image\u001b[0m\u001b[0;34m.\u001b[0m\u001b[0msegmentImage\u001b[0m\u001b[0;34m(\u001b[0m\u001b[0;34m\"/content/drive/MyDrive/Image_Segmentation/play.jpeg\"\u001b[0m\u001b[0;34m,\u001b[0m \u001b[0mshow_bboxes\u001b[0m \u001b[0;34m=\u001b[0m \u001b[0;32mTrue\u001b[0m\u001b[0;34m,\u001b[0m \u001b[0moutput_image_name\u001b[0m \u001b[0;34m=\u001b[0m \u001b[0;34m\"/content/drive/MyDrive/Image_Segmentation/output1.jpg\"\u001b[0m\u001b[0;34m)\u001b[0m\u001b[0;34m\u001b[0m\u001b[0;34m\u001b[0m\u001b[0m\n\u001b[0m",
            "\u001b[0;32m/usr/local/lib/python3.7/dist-packages/pixellib/instance/__init__.py\u001b[0m in \u001b[0;36msegmentImage\u001b[0;34m(self, image_path, show_bboxes, segment_target_classes, extract_segmented_objects, save_extracted_objects, mask_points_values, output_image_name, text_thickness, text_size, box_thickness, verbose)\u001b[0m\n\u001b[1;32m    189\u001b[0m         \u001b[0mimage\u001b[0m \u001b[0;34m=\u001b[0m \u001b[0mcv2\u001b[0m\u001b[0;34m.\u001b[0m\u001b[0mimread\u001b[0m\u001b[0;34m(\u001b[0m\u001b[0mimage_path\u001b[0m\u001b[0;34m)\u001b[0m\u001b[0;34m\u001b[0m\u001b[0;34m\u001b[0m\u001b[0m\n\u001b[1;32m    190\u001b[0m \u001b[0;34m\u001b[0m\u001b[0m\n\u001b[0;32m--> 191\u001b[0;31m         \u001b[0mnew_img\u001b[0m \u001b[0;34m=\u001b[0m \u001b[0mcv2\u001b[0m\u001b[0;34m.\u001b[0m\u001b[0mcvtColor\u001b[0m\u001b[0;34m(\u001b[0m\u001b[0mimage\u001b[0m\u001b[0;34m,\u001b[0m \u001b[0mcv2\u001b[0m\u001b[0;34m.\u001b[0m\u001b[0mCOLOR_RGB2BGR\u001b[0m\u001b[0;34m)\u001b[0m\u001b[0;34m\u001b[0m\u001b[0;34m\u001b[0m\u001b[0m\n\u001b[0m\u001b[1;32m    192\u001b[0m         \u001b[0;31m# Run detection\u001b[0m\u001b[0;34m\u001b[0m\u001b[0;34m\u001b[0m\u001b[0;34m\u001b[0m\u001b[0m\n\u001b[1;32m    193\u001b[0m         \u001b[0;32mif\u001b[0m \u001b[0mverbose\u001b[0m \u001b[0;32mis\u001b[0m \u001b[0;32mnot\u001b[0m \u001b[0;32mNone\u001b[0m\u001b[0;34m:\u001b[0m\u001b[0;34m\u001b[0m\u001b[0;34m\u001b[0m\u001b[0m\n",
            "\u001b[0;31merror\u001b[0m: OpenCV(4.5.5) /io/opencv/modules/imgproc/src/color.cpp:182: error: (-215:Assertion failed) !_src.empty() in function 'cvtColor'\n"
          ]
        }
      ],
      "source": [
        "import pixellib\n",
        "from pixellib.instance import instance_segmentation\n",
        "segment_image = instance_segmentation()\n",
        "segment_image.load_model(\"/content/drive/MyDrive/Models/mask_rcnn_coco.h5\") \n",
        "segment_image.segmentImage(\"/content/drive/MyDrive/Image_Segmentation/play.jpeg\", show_bboxes = True, output_image_name = \"/content/drive/MyDrive/Image_Segmentation/output1.jpg\") "
      ]
    }
  ]
}